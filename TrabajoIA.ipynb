{
 "cells": [
  {
   "cell_type": "markdown",
   "metadata": {},
   "source": [
    "# Aprendizaje Automático en Grafos"
   ]
  },
  {
   "cell_type": "markdown",
   "metadata": {},
   "source": [
    "### - LECTURA DE FICHEROS"
   ]
  },
  {
   "cell_type": "code",
   "execution_count": 111,
   "metadata": {},
   "outputs": [],
   "source": [
    "import pandas\n",
    "import numpy\n",
    "#Usamos el método read_csv para leer  ENGB_target.csv, y para ello necesitamos pandas.\n",
    "twitch_users = pandas.read_csv('ENGB_target.csv', skiprows=1 , header=None,\n",
    "                       names=['id2', 'days', 'mature', 'views',\n",
    "                              'partner', 'id'], \n",
    "                        usecols = ['id', 'days', 'mature', 'views',\n",
    "                              'partner'] )\n"
   ]
  },
  {
   "cell_type": "code",
   "execution_count": 112,
   "metadata": {},
   "outputs": [],
   "source": [
    "cols = ['id', 'days', 'views','partner', 'mature']\n",
    "twitch_users [['partner']] *= 1 #codificamos la columna de partner a 0=False y 1=True\n",
    "twitch_users=twitch_users[cols]"
   ]
  },
  {
   "cell_type": "code",
   "execution_count": 114,
   "metadata": {},
   "outputs": [
    {
     "data": {
      "text/html": [
       "<div>\n",
       "<style scoped>\n",
       "    .dataframe tbody tr th:only-of-type {\n",
       "        vertical-align: middle;\n",
       "    }\n",
       "\n",
       "    .dataframe tbody tr th {\n",
       "        vertical-align: top;\n",
       "    }\n",
       "\n",
       "    .dataframe thead th {\n",
       "        text-align: right;\n",
       "    }\n",
       "</style>\n",
       "<table border=\"1\" class=\"dataframe\">\n",
       "  <thead>\n",
       "    <tr style=\"text-align: right;\">\n",
       "      <th></th>\n",
       "      <th>id</th>\n",
       "      <th>days</th>\n",
       "      <th>views</th>\n",
       "      <th>partner</th>\n",
       "      <th>mature</th>\n",
       "    </tr>\n",
       "  </thead>\n",
       "  <tbody>\n",
       "    <tr>\n",
       "      <th>0</th>\n",
       "      <td>2299</td>\n",
       "      <td>1459</td>\n",
       "      <td>9528</td>\n",
       "      <td>0</td>\n",
       "      <td>False</td>\n",
       "    </tr>\n",
       "    <tr>\n",
       "      <th>1</th>\n",
       "      <td>153</td>\n",
       "      <td>1629</td>\n",
       "      <td>3615</td>\n",
       "      <td>0</td>\n",
       "      <td>True</td>\n",
       "    </tr>\n",
       "    <tr>\n",
       "      <th>2</th>\n",
       "      <td>397</td>\n",
       "      <td>411</td>\n",
       "      <td>46546</td>\n",
       "      <td>0</td>\n",
       "      <td>True</td>\n",
       "    </tr>\n",
       "    <tr>\n",
       "      <th>3</th>\n",
       "      <td>5623</td>\n",
       "      <td>953</td>\n",
       "      <td>5863</td>\n",
       "      <td>0</td>\n",
       "      <td>True</td>\n",
       "    </tr>\n",
       "    <tr>\n",
       "      <th>4</th>\n",
       "      <td>5875</td>\n",
       "      <td>741</td>\n",
       "      <td>5594</td>\n",
       "      <td>0</td>\n",
       "      <td>True</td>\n",
       "    </tr>\n",
       "    <tr>\n",
       "      <th>5</th>\n",
       "      <td>3346</td>\n",
       "      <td>1820</td>\n",
       "      <td>4594</td>\n",
       "      <td>0</td>\n",
       "      <td>False</td>\n",
       "    </tr>\n",
       "    <tr>\n",
       "      <th>6</th>\n",
       "      <td>6930</td>\n",
       "      <td>2070</td>\n",
       "      <td>18460</td>\n",
       "      <td>0</td>\n",
       "      <td>False</td>\n",
       "    </tr>\n",
       "    <tr>\n",
       "      <th>7</th>\n",
       "      <td>6367</td>\n",
       "      <td>846</td>\n",
       "      <td>204</td>\n",
       "      <td>0</td>\n",
       "      <td>True</td>\n",
       "    </tr>\n",
       "    <tr>\n",
       "      <th>8</th>\n",
       "      <td>1434</td>\n",
       "      <td>936</td>\n",
       "      <td>1064</td>\n",
       "      <td>0</td>\n",
       "      <td>True</td>\n",
       "    </tr>\n",
       "    <tr>\n",
       "      <th>9</th>\n",
       "      <td>4470</td>\n",
       "      <td>973</td>\n",
       "      <td>313084</td>\n",
       "      <td>0</td>\n",
       "      <td>False</td>\n",
       "    </tr>\n",
       "    <tr>\n",
       "      <th>10</th>\n",
       "      <td>5122</td>\n",
       "      <td>1198</td>\n",
       "      <td>791</td>\n",
       "      <td>0</td>\n",
       "      <td>False</td>\n",
       "    </tr>\n",
       "    <tr>\n",
       "      <th>11</th>\n",
       "      <td>4790</td>\n",
       "      <td>993</td>\n",
       "      <td>364</td>\n",
       "      <td>0</td>\n",
       "      <td>True</td>\n",
       "    </tr>\n",
       "    <tr>\n",
       "      <th>12</th>\n",
       "      <td>4919</td>\n",
       "      <td>931</td>\n",
       "      <td>3994</td>\n",
       "      <td>0</td>\n",
       "      <td>True</td>\n",
       "    </tr>\n",
       "    <tr>\n",
       "      <th>13</th>\n",
       "      <td>575</td>\n",
       "      <td>1354</td>\n",
       "      <td>3956</td>\n",
       "      <td>0</td>\n",
       "      <td>False</td>\n",
       "    </tr>\n",
       "    <tr>\n",
       "      <th>14</th>\n",
       "      <td>639</td>\n",
       "      <td>1720</td>\n",
       "      <td>2833</td>\n",
       "      <td>0</td>\n",
       "      <td>False</td>\n",
       "    </tr>\n",
       "    <tr>\n",
       "      <th>15</th>\n",
       "      <td>7012</td>\n",
       "      <td>1573</td>\n",
       "      <td>16054</td>\n",
       "      <td>0</td>\n",
       "      <td>True</td>\n",
       "    </tr>\n",
       "    <tr>\n",
       "      <th>16</th>\n",
       "      <td>6445</td>\n",
       "      <td>2219</td>\n",
       "      <td>3950</td>\n",
       "      <td>0</td>\n",
       "      <td>False</td>\n",
       "    </tr>\n",
       "    <tr>\n",
       "      <th>17</th>\n",
       "      <td>1170</td>\n",
       "      <td>2142</td>\n",
       "      <td>89458</td>\n",
       "      <td>1</td>\n",
       "      <td>True</td>\n",
       "    </tr>\n",
       "    <tr>\n",
       "      <th>18</th>\n",
       "      <td>326</td>\n",
       "      <td>3039</td>\n",
       "      <td>115054</td>\n",
       "      <td>0</td>\n",
       "      <td>True</td>\n",
       "    </tr>\n",
       "    <tr>\n",
       "      <th>19</th>\n",
       "      <td>4956</td>\n",
       "      <td>1664</td>\n",
       "      <td>657</td>\n",
       "      <td>0</td>\n",
       "      <td>False</td>\n",
       "    </tr>\n",
       "  </tbody>\n",
       "</table>\n",
       "</div>"
      ],
      "text/plain": [
       "      id  days   views  partner  mature\n",
       "0   2299  1459    9528        0   False\n",
       "1    153  1629    3615        0    True\n",
       "2    397   411   46546        0    True\n",
       "3   5623   953    5863        0    True\n",
       "4   5875   741    5594        0    True\n",
       "5   3346  1820    4594        0   False\n",
       "6   6930  2070   18460        0   False\n",
       "7   6367   846     204        0    True\n",
       "8   1434   936    1064        0    True\n",
       "9   4470   973  313084        0   False\n",
       "10  5122  1198     791        0   False\n",
       "11  4790   993     364        0    True\n",
       "12  4919   931    3994        0    True\n",
       "13   575  1354    3956        0   False\n",
       "14   639  1720    2833        0   False\n",
       "15  7012  1573   16054        0    True\n",
       "16  6445  2219    3950        0   False\n",
       "17  1170  2142   89458        1    True\n",
       "18   326  3039  115054        0    True\n",
       "19  4956  1664     657        0   False"
      ]
     },
     "execution_count": 114,
     "metadata": {},
     "output_type": "execute_result"
    }
   ],
   "source": [
    "twitch_users.head(20)\n"
   ]
  },
  {
   "cell_type": "markdown",
   "metadata": {},
   "source": [
    "### - CREACIÓN DEL GRAFO"
   ]
  },
  {
   "cell_type": "code",
   "execution_count": 60,
   "metadata": {},
   "outputs": [],
   "source": [
    "#usando la librería networkx (como nx) creamos un grafo vacío\n",
    "import networkx as nx\n",
    "G=nx.Graph()"
   ]
  },
  {
   "cell_type": "code",
   "execution_count": 61,
   "metadata": {},
   "outputs": [],
   "source": [
    "#recorremos las aristas\n",
    "aristas = pandas.read_csv('ENGB_edges.csv')"
   ]
  },
  {
   "cell_type": "code",
   "execution_count": 62,
   "metadata": {},
   "outputs": [],
   "source": [
    "aristas1 = aristas[['from', 'to']]"
   ]
  },
  {
   "cell_type": "code",
   "execution_count": 63,
   "metadata": {},
   "outputs": [],
   "source": [
    "G = nx.from_pandas_edgelist(aristas1, 'from', 'to')"
   ]
  },
  {
   "cell_type": "code",
   "execution_count": 64,
   "metadata": {},
   "outputs": [
    {
     "name": "stdout",
     "output_type": "stream",
     "text": [
      "35324\n"
     ]
    },
    {
     "data": {
      "text/plain": [
       "7126"
      ]
     },
     "execution_count": 64,
     "metadata": {},
     "output_type": "execute_result"
    }
   ],
   "source": [
    "print(G.number_of_edges())\n",
    "G.number_of_nodes()"
   ]
  },
  {
   "cell_type": "code",
   "execution_count": null,
   "metadata": {},
   "outputs": [],
   "source": [
    "from matplotlib.pyplot import figure\n",
    "figure(figsize=(100, 80))\n",
    "nx.draw_spring(G, with_labels=True)\n",
    "#Asi se dibuja el grafo pero es demasiado grande, por lo que no recomendamos ejecutarlo"
   ]
  },
  {
   "cell_type": "markdown",
   "metadata": {},
   "source": [
    "### - MODELO DE CLASIFICACIÓN _KNN_"
   ]
  },
  {
   "cell_type": "code",
   "execution_count": 65,
   "metadata": {},
   "outputs": [],
   "source": [
    "from sklearn import preprocessing\n",
    "\n",
    "atributos = twitch_users.loc[:, 'days': 'partner']  # selección de las columnas de atributos\n",
    "objetivo = twitch_users['mature']  # selección de la columna objetivo"
   ]
  },
  {
   "cell_type": "code",
   "execution_count": 115,
   "metadata": {},
   "outputs": [
    {
     "name": "stdout",
     "output_type": "stream",
     "text": [
      "True     0.545608\n",
      "False    0.454392\n",
      "Name: mature, dtype: float64\n"
     ]
    }
   ],
   "source": [
    "print(pandas.Series(objetivo).value_counts(normalize=True))"
   ]
  },
  {
   "cell_type": "code",
   "execution_count": 120,
   "metadata": {},
   "outputs": [
    {
     "name": "stdout",
     "output_type": "stream",
     "text": [
      "{1: 0.49915868225727655, 2: 0.47684495012370587, 3: 0.48667168318704, 4: 0.47109243267094253, 5: 0.48947752021053625, 6: 0.4696895141591944, 7: 0.47306108861118557, 8: 0.4584643932111508, 9: 0.4640764612257119, 10: 0.46126924531572566}\n",
      "Mejor suavizado: 1\n"
     ]
    }
   ],
   "source": [
    "from sklearn import model_selection\n",
    "from sklearn import neighbors\n",
    "cv_scores_KNN = {}\n",
    "for k in range (1,11):                          #EXPLICAR POR QUE USAMOS HAMMING\n",
    "    clasif_KNN = neighbors.KNeighborsClassifier(n_neighbors=k, metric='hamming')  \n",
    "    cv_scores = model_selection.cross_val_score(clasif_KNN,\n",
    "                                               atributos,\n",
    "                                               objetivo,\n",
    "                                               cv=10)\n",
    "    cv_scores_KNN[k]= cv_scores.mean()\n",
    "print(cv_scores_KNN)\n",
    "mejor_k_KNN = max(cv_scores_KNN, key=cv_scores_KNN.get)\n",
    "print(f'Mejor suavizado: {mejor_k_KNN}')"
   ]
  },
  {
   "cell_type": "code",
   "execution_count": null,
   "metadata": {},
   "outputs": [],
   "source": []
  },
  {
   "cell_type": "code",
   "execution_count": null,
   "metadata": {},
   "outputs": [],
   "source": []
  },
  {
   "cell_type": "code",
   "execution_count": null,
   "metadata": {},
   "outputs": [],
   "source": []
  },
  {
   "cell_type": "markdown",
   "metadata": {},
   "source": [
    "### - MODELO DE CLASIFICACIÓN _Naive Bayes_"
   ]
  },
  {
   "cell_type": "code",
   "execution_count": null,
   "metadata": {},
   "outputs": [],
   "source": []
  },
  {
   "cell_type": "code",
   "execution_count": null,
   "metadata": {},
   "outputs": [],
   "source": [
    "cv_scores_NB = {}\n",
    "for k in range (1,4):\n",
    "    clasif_NB = naive_bayes.CategoricalNB(alpha=k)  # alpha es el parámetro de suavizado\n",
    "    cv_scores = model_selection.cross_val_score(clasif_NB,\n",
    "                                               atributos,\n",
    "                                               objetivo,\n",
    "                                               cv=3)\n",
    "    cv_scores_NB[k]= cv_scores.mean()\n",
    "print(cv_scores_NB)\n",
    "mejor_k_NB = max(cv_scores_NB, key=cv_scores_NB.get)\n",
    "print(f'Mejor suavizado: {mejor_k_NB}')"
   ]
  }
 ],
 "metadata": {
  "kernelspec": {
   "display_name": "Python 3",
   "language": "python",
   "name": "python3"
  },
  "language_info": {
   "codemirror_mode": {
    "name": "ipython",
    "version": 3
   },
   "file_extension": ".py",
   "mimetype": "text/x-python",
   "name": "python",
   "nbconvert_exporter": "python",
   "pygments_lexer": "ipython3",
   "version": "3.8.5"
  }
 },
 "nbformat": 4,
 "nbformat_minor": 4
}
